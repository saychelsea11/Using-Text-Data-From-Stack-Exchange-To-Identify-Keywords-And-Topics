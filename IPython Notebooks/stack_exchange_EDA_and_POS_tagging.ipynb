{
  "nbformat": 4,
  "nbformat_minor": 0,
  "metadata": {
    "kernelspec": {
      "display_name": "conda_python3",
      "language": "python",
      "name": "conda_python3"
    },
    "language_info": {
      "codemirror_mode": {
        "name": "ipython",
        "version": 3
      },
      "file_extension": ".py",
      "mimetype": "text/x-python",
      "name": "python",
      "nbconvert_exporter": "python",
      "pygments_lexer": "ipython3",
      "version": "3.6.5"
    },
    "colab": {
      "name": "stack_exchange_EDA_and_POS_tagging.ipynb",
      "provenance": [],
      "collapsed_sections": [
        "buVl0D7R2hvY",
        "aRhAMKBa2hwu",
        "kJfRkJmW2hw1",
        "QebLlcXk2hy2",
        "OZGJZ9O72h1V",
        "TAkVSNmq2h27",
        "WtGbCQ0e2h3X",
        "vx-6XY-m2h5i",
        "MlYIQCF42h8x",
        "aLRFyyja2h9u",
        "sYa3XhzQ2h-p",
        "O7SmB-tu2h_L"
      ],
      "toc_visible": true
    }
  },
  "cells": [
    {
      "cell_type": "code",
      "metadata": {
        "id": "ni3Y4HQ52wdQ",
        "colab_type": "code",
        "outputId": "e212c00e-4ad2-4dcc-c287-577705532b1b",
        "colab": {
          "base_uri": "https://localhost:8080/",
          "height": 124
        }
      },
      "source": [
        "from google.colab import drive\n",
        "drive.mount('/content/drive')"
      ],
      "execution_count": 0,
      "outputs": [
        {
          "output_type": "stream",
          "text": [
            "Go to this URL in a browser: https://accounts.google.com/o/oauth2/auth?client_id=947318989803-6bn6qk8qdgf4n4g3pfee6491hc0brc4i.apps.googleusercontent.com&redirect_uri=urn%3aietf%3awg%3aoauth%3a2.0%3aoob&response_type=code&scope=email%20https%3a%2f%2fwww.googleapis.com%2fauth%2fdocs.test%20https%3a%2f%2fwww.googleapis.com%2fauth%2fdrive%20https%3a%2f%2fwww.googleapis.com%2fauth%2fdrive.photos.readonly%20https%3a%2f%2fwww.googleapis.com%2fauth%2fpeopleapi.readonly\n",
            "\n",
            "Enter your authorization code:\n",
            "··········\n",
            "Mounted at /content/drive\n"
          ],
          "name": "stdout"
        }
      ]
    },
    {
      "cell_type": "code",
      "metadata": {
        "id": "pkXlnqce2hsd",
        "colab_type": "code",
        "outputId": "5f04a75f-1f2f-409c-c4e8-85fcd89d2861",
        "colab": {
          "base_uri": "https://localhost:8080/",
          "height": 89
        }
      },
      "source": [
        "!pip install wordcloud"
      ],
      "execution_count": 0,
      "outputs": [
        {
          "output_type": "stream",
          "text": [
            "Requirement already satisfied: wordcloud in /usr/local/lib/python3.6/dist-packages (1.5.0)\n",
            "Requirement already satisfied: pillow in /usr/local/lib/python3.6/dist-packages (from wordcloud) (6.2.2)\n",
            "Requirement already satisfied: numpy>=1.6.1 in /usr/local/lib/python3.6/dist-packages (from wordcloud) (1.17.5)\n"
          ],
          "name": "stdout"
        }
      ]
    },
    {
      "cell_type": "markdown",
      "metadata": {
        "id": "XXBO8E_o2hs6",
        "colab_type": "text"
      },
      "source": [
        "# 1. Importing libraries"
      ]
    },
    {
      "cell_type": "code",
      "metadata": {
        "id": "oA9kFHYQ2htD",
        "colab_type": "code",
        "outputId": "ba209d5a-4085-4a55-ee02-38f92483dfbd",
        "colab": {
          "base_uri": "https://localhost:8080/",
          "height": 191
        }
      },
      "source": [
        "import pandas as pd\n",
        "import matplotlib.pyplot as plt\n",
        "import seaborn as sns\n",
        "import numpy as np\n",
        "import re\n",
        "import nltk\n",
        "from nltk.tokenize import word_tokenize\n",
        "nltk.download('punkt')\n",
        "from nltk.corpus import stopwords\n",
        "nltk.download('stopwords')\n",
        "from wordcloud import WordCloud\n",
        "import unicodedata\n",
        "from nltk import WordNetLemmatizer\n",
        "nltk.download('wordnet')\n",
        "from nltk import PorterStemmer\n",
        "nltk.download('averaged_perceptron_tagger')"
      ],
      "execution_count": 0,
      "outputs": [
        {
          "output_type": "stream",
          "text": [
            "[nltk_data] Downloading package punkt to /root/nltk_data...\n",
            "[nltk_data]   Unzipping tokenizers/punkt.zip.\n",
            "[nltk_data] Downloading package stopwords to /root/nltk_data...\n",
            "[nltk_data]   Unzipping corpora/stopwords.zip.\n",
            "[nltk_data] Downloading package wordnet to /root/nltk_data...\n",
            "[nltk_data]   Unzipping corpora/wordnet.zip.\n",
            "[nltk_data] Downloading package averaged_perceptron_tagger to\n",
            "[nltk_data]     /root/nltk_data...\n",
            "[nltk_data]   Unzipping taggers/averaged_perceptron_tagger.zip.\n"
          ],
          "name": "stdout"
        },
        {
          "output_type": "execute_result",
          "data": {
            "text/plain": [
              "True"
            ]
          },
          "metadata": {
            "tags": []
          },
          "execution_count": 4
        }
      ]
    },
    {
      "cell_type": "markdown",
      "metadata": {
        "id": "kN17WxhX4ZD4",
        "colab_type": "text"
      },
      "source": [
        "# 2. Loading data"
      ]
    },
    {
      "cell_type": "code",
      "metadata": {
        "id": "1De_n9M54cw9",
        "colab_type": "code",
        "outputId": "f6a58a05-7bfe-4cde-c5a8-e02cdb5956a6",
        "colab": {
          "base_uri": "https://localhost:8080/",
          "height": 219
        }
      },
      "source": [
        "df = pd.read_csv('/content/drive/My Drive/preprocessed_dataset_tokenization_stopwords_removal_lemmatization_title.csv',index_col=0,dtype=object)\n",
        "print (df.shape)\n",
        "df.head()"
      ],
      "execution_count": 0,
      "outputs": [
        {
          "output_type": "stream",
          "text": [
            "(420545, 2)\n"
          ],
          "name": "stdout"
        },
        {
          "output_type": "execute_result",
          "data": {
            "text/html": [
              "<div>\n",
              "<style scoped>\n",
              "    .dataframe tbody tr th:only-of-type {\n",
              "        vertical-align: middle;\n",
              "    }\n",
              "\n",
              "    .dataframe tbody tr th {\n",
              "        vertical-align: top;\n",
              "    }\n",
              "\n",
              "    .dataframe thead th {\n",
              "        text-align: right;\n",
              "    }\n",
              "</style>\n",
              "<table border=\"1\" class=\"dataframe\">\n",
              "  <thead>\n",
              "    <tr style=\"text-align: right;\">\n",
              "      <th></th>\n",
              "      <th>Title</th>\n",
              "      <th>Body</th>\n",
              "    </tr>\n",
              "  </thead>\n",
              "  <tbody>\n",
              "    <tr>\n",
              "      <th>0</th>\n",
              "      <td>['check', 'upload', 'image', 'without', 'mime'...</td>\n",
              "      <td>I'd like to check if an uploaded file is an im...</td>\n",
              "    </tr>\n",
              "    <tr>\n",
              "      <th>1</th>\n",
              "      <td>['prevent', 'firefox', 'close', 'press', 'ctrl...</td>\n",
              "      <td>In my favorite editor (vim), I regularly use c...</td>\n",
              "    </tr>\n",
              "    <tr>\n",
              "      <th>2</th>\n",
              "      <td>['r', 'error', 'invalid', 'type', 'list', 'var...</td>\n",
              "      <td>I am import matlab file and construct a data f...</td>\n",
              "    </tr>\n",
              "    <tr>\n",
              "      <th>3</th>\n",
              "      <td>['replace', 'special', 'character', 'url']</td>\n",
              "      <td>This is probably very simple, but I simply can...</td>\n",
              "    </tr>\n",
              "    <tr>\n",
              "      <th>4</th>\n",
              "      <td>['modify', 'whois', 'contact', 'detail']</td>\n",
              "      <td>function modify(.......){  $mcontact = file_ge...</td>\n",
              "    </tr>\n",
              "  </tbody>\n",
              "</table>\n",
              "</div>"
            ],
            "text/plain": [
              "                                               Title                                               Body\n",
              "0  ['check', 'upload', 'image', 'without', 'mime'...  I'd like to check if an uploaded file is an im...\n",
              "1  ['prevent', 'firefox', 'close', 'press', 'ctrl...  In my favorite editor (vim), I regularly use c...\n",
              "2  ['r', 'error', 'invalid', 'type', 'list', 'var...  I am import matlab file and construct a data f...\n",
              "3         ['replace', 'special', 'character', 'url']  This is probably very simple, but I simply can...\n",
              "4           ['modify', 'whois', 'contact', 'detail']  function modify(.......){  $mcontact = file_ge..."
            ]
          },
          "metadata": {
            "tags": []
          },
          "execution_count": 5
        }
      ]
    },
    {
      "cell_type": "markdown",
      "metadata": {
        "id": "OVbCLlYtHzIH",
        "colab_type": "text"
      },
      "source": [
        "For some reason, the loaded dataset has the list of tokens inside a string. Therefore, the lists of tokens are not accessible directly. To overcome this we will perform the following function. "
      ]
    },
    {
      "cell_type": "code",
      "metadata": {
        "id": "geVSp0K3A71R",
        "colab_type": "code",
        "colab": {}
      },
      "source": [
        "def fix_list_string(token_list):\n",
        "  transformed_list = list(pd.Series(token_list.strip('[]').split(', ')).apply(lambda x: x[1:-1]))\n",
        "  return transformed_list"
      ],
      "execution_count": 0,
      "outputs": []
    },
    {
      "cell_type": "code",
      "metadata": {
        "id": "UkNvUUZaIiBz",
        "colab_type": "code",
        "outputId": "1d51127b-a03d-45d5-dc37-de69e1d3838c",
        "colab": {
          "base_uri": "https://localhost:8080/",
          "height": 35
        }
      },
      "source": [
        "df['Title'] = df['Title'].apply(fix_list_string)\n",
        "df['Title'][0]"
      ],
      "execution_count": 0,
      "outputs": [
        {
          "output_type": "execute_result",
          "data": {
            "text/plain": [
              "['check', 'upload', 'image', 'without', 'mime', 'type']"
            ]
          },
          "metadata": {
            "tags": []
          },
          "execution_count": 7
        }
      ]
    },
    {
      "cell_type": "markdown",
      "metadata": {
        "id": "x5Klx4FFKVk5",
        "colab_type": "text"
      },
      "source": [
        "Looks like it worked!"
      ]
    },
    {
      "cell_type": "code",
      "metadata": {
        "id": "PAKmoRsOKUwj",
        "colab_type": "code",
        "colab": {}
      },
      "source": [
        ""
      ],
      "execution_count": 0,
      "outputs": []
    },
    {
      "cell_type": "markdown",
      "metadata": {
        "id": "rYFm2Mdu2htW",
        "colab_type": "text"
      },
      "source": [
        "# 2. Exploratory Data Analysis"
      ]
    },
    {
      "cell_type": "markdown",
      "metadata": {
        "id": "g3J_oPjX2htc",
        "colab_type": "text"
      },
      "source": [
        "## a. Getting word frequencies"
      ]
    },
    {
      "cell_type": "code",
      "metadata": {
        "id": "YX-luJLk9Awv",
        "colab_type": "code",
        "colab": {}
      },
      "source": [
        "def combine_list_of_words(word_list):\n",
        "    combined_list = []\n",
        "    for i in word_list:\n",
        "        combined_list.extend(i)\n",
        "    return combined_list"
      ],
      "execution_count": 0,
      "outputs": []
    },
    {
      "cell_type": "markdown",
      "metadata": {
        "id": "nbkYx14a9Ie0",
        "colab_type": "text"
      },
      "source": [
        "Above, we defined a function that takes a list of list of tokens and combines all the tokens into a single list. "
      ]
    },
    {
      "cell_type": "code",
      "metadata": {
        "id": "uvzwLKgV2htk",
        "colab_type": "code",
        "outputId": "536ac9a8-405f-47e4-be5e-3ad0384194ee",
        "colab": {
          "base_uri": "https://localhost:8080/",
          "height": 191
        }
      },
      "source": [
        "title_words = combine_list_of_words(df['Title'])\n",
        "title_words[:10]"
      ],
      "execution_count": 0,
      "outputs": [
        {
          "output_type": "execute_result",
          "data": {
            "text/plain": [
              "['check',\n",
              " 'upload',\n",
              " 'image',\n",
              " 'without',\n",
              " 'mime',\n",
              " 'type',\n",
              " 'prevent',\n",
              " 'firefox',\n",
              " 'close',\n",
              " 'press']"
            ]
          },
          "metadata": {
            "tags": []
          },
          "execution_count": 9
        }
      ]
    },
    {
      "cell_type": "code",
      "metadata": {
        "id": "3gCeJmbR2ht_",
        "colab_type": "code",
        "outputId": "2dba4512-8dee-4b4b-dae5-0113034725c3",
        "colab": {
          "base_uri": "https://localhost:8080/",
          "height": 662
        }
      },
      "source": [
        "df_title_words = pd.DataFrame()\n",
        "df_title_words['word'] = nltk.FreqDist(title_words).keys()\n",
        "df_title_words['freq'] = nltk.FreqDist(title_words).values()\n",
        "\n",
        "df_title_words = df_title_words.sort_values(\"freq\",ascending=False)\n",
        "df_title_words.head(20)"
      ],
      "execution_count": 0,
      "outputs": [
        {
          "output_type": "execute_result",
          "data": {
            "text/html": [
              "<div>\n",
              "<style scoped>\n",
              "    .dataframe tbody tr th:only-of-type {\n",
              "        vertical-align: middle;\n",
              "    }\n",
              "\n",
              "    .dataframe tbody tr th {\n",
              "        vertical-align: top;\n",
              "    }\n",
              "\n",
              "    .dataframe thead th {\n",
              "        text-align: right;\n",
              "    }\n",
              "</style>\n",
              "<table border=\"1\" class=\"dataframe\">\n",
              "  <thead>\n",
              "    <tr style=\"text-align: right;\">\n",
              "      <th></th>\n",
              "      <th>word</th>\n",
              "      <th>freq</th>\n",
              "    </tr>\n",
              "  </thead>\n",
              "  <tbody>\n",
              "    <tr>\n",
              "      <th>156</th>\n",
              "      <td>work</td>\n",
              "      <td>12197</td>\n",
              "    </tr>\n",
              "    <tr>\n",
              "      <th>182</th>\n",
              "      <td>jquery</td>\n",
              "      <td>12025</td>\n",
              "    </tr>\n",
              "    <tr>\n",
              "      <th>435</th>\n",
              "      <td>android</td>\n",
              "      <td>12002</td>\n",
              "    </tr>\n",
              "    <tr>\n",
              "      <th>42</th>\n",
              "      <td>server</td>\n",
              "      <td>11918</td>\n",
              "    </tr>\n",
              "    <tr>\n",
              "      <th>68</th>\n",
              "      <td>php</td>\n",
              "      <td>11814</td>\n",
              "    </tr>\n",
              "    <tr>\n",
              "      <th>12</th>\n",
              "      <td>error</td>\n",
              "      <td>11655</td>\n",
              "    </tr>\n",
              "    <tr>\n",
              "      <th>186</th>\n",
              "      <td>data</td>\n",
              "      <td>11482</td>\n",
              "    </tr>\n",
              "    <tr>\n",
              "      <th>383</th>\n",
              "      <td>value</td>\n",
              "      <td>11284</td>\n",
              "    </tr>\n",
              "    <tr>\n",
              "      <th>105</th>\n",
              "      <td>c</td>\n",
              "      <td>11283</td>\n",
              "    </tr>\n",
              "    <tr>\n",
              "      <th>65</th>\n",
              "      <td>windows</td>\n",
              "      <td>10800</td>\n",
              "    </tr>\n",
              "    <tr>\n",
              "      <th>71</th>\n",
              "      <td>create</td>\n",
              "      <td>10351</td>\n",
              "    </tr>\n",
              "    <tr>\n",
              "      <th>402</th>\n",
              "      <td>function</td>\n",
              "      <td>10099</td>\n",
              "    </tr>\n",
              "    <tr>\n",
              "      <th>158</th>\n",
              "      <td>java</td>\n",
              "      <td>9745</td>\n",
              "    </tr>\n",
              "    <tr>\n",
              "      <th>106</th>\n",
              "      <td>#</td>\n",
              "      <td>9139</td>\n",
              "    </tr>\n",
              "    <tr>\n",
              "      <th>2</th>\n",
              "      <td>image</td>\n",
              "      <td>8913</td>\n",
              "    </tr>\n",
              "    <tr>\n",
              "      <th>216</th>\n",
              "      <td>page</td>\n",
              "      <td>8844</td>\n",
              "    </tr>\n",
              "    <tr>\n",
              "      <th>291</th>\n",
              "      <td>change</td>\n",
              "      <td>8748</td>\n",
              "    </tr>\n",
              "    <tr>\n",
              "      <th>308</th>\n",
              "      <td>object</td>\n",
              "      <td>8618</td>\n",
              "    </tr>\n",
              "    <tr>\n",
              "      <th>183</th>\n",
              "      <td>add</td>\n",
              "      <td>8578</td>\n",
              "    </tr>\n",
              "    <tr>\n",
              "      <th>24</th>\n",
              "      <td>set</td>\n",
              "      <td>8570</td>\n",
              "    </tr>\n",
              "  </tbody>\n",
              "</table>\n",
              "</div>"
            ],
            "text/plain": [
              "         word   freq\n",
              "156      work  12197\n",
              "182    jquery  12025\n",
              "435   android  12002\n",
              "42     server  11918\n",
              "68        php  11814\n",
              "12      error  11655\n",
              "186      data  11482\n",
              "383     value  11284\n",
              "105         c  11283\n",
              "65    windows  10800\n",
              "71     create  10351\n",
              "402  function  10099\n",
              "158      java   9745\n",
              "106         #   9139\n",
              "2       image   8913\n",
              "216      page   8844\n",
              "291    change   8748\n",
              "308    object   8618\n",
              "183       add   8578\n",
              "24        set   8570"
            ]
          },
          "metadata": {
            "tags": []
          },
          "execution_count": 10
        }
      ]
    },
    {
      "cell_type": "code",
      "metadata": {
        "id": "yVwKcnqP2hup",
        "colab_type": "code",
        "outputId": "85b0d817-be37-43aa-d41b-80dfd1771443",
        "colab": {
          "base_uri": "https://localhost:8080/",
          "height": 629
        }
      },
      "source": [
        "plt.figure(figsize=(16,8))\n",
        "sns.barplot(y='freq',x='word',data=df_title_words.head(50),alpha=0.7,palette=\"GnBu_d\")\n",
        "plt.xticks(rotation=60)"
      ],
      "execution_count": 0,
      "outputs": [
        {
          "output_type": "execute_result",
          "data": {
            "text/plain": [
              "(array([ 0,  1,  2,  3,  4,  5,  6,  7,  8,  9, 10, 11, 12, 13, 14, 15, 16,\n",
              "        17, 18, 19, 20, 21, 22, 23, 24, 25, 26, 27, 28, 29, 30, 31, 32, 33,\n",
              "        34, 35, 36, 37, 38, 39, 40, 41, 42, 43, 44, 45, 46, 47, 48, 49]),\n",
              " <a list of 50 Text xticklabel objects>)"
            ]
          },
          "metadata": {
            "tags": []
          },
          "execution_count": 11
        },
        {
          "output_type": "display_data",
          "data": {
            "image/png": "[encoded data removed]",
            "text/plain": [
              "<Figure size 1152x576 with 1 Axes>"
            ]
          },
          "metadata": {
            "tags": []
          }
        }
      ]
    },
    {
      "cell_type": "markdown",
      "metadata": {
        "id": "XvBneATX2hu5",
        "colab_type": "text"
      },
      "source": [
        "From the distribution above, we can see that words such as *work, jquery, android and server* are some of the highest occurring words in the title column."
      ]
    },
    {
      "cell_type": "markdown",
      "metadata": {
        "id": "buVl0D7R2hvY",
        "colab_type": "text"
      },
      "source": [
        "## b. Word frequencies using *WordCloud*"
      ]
    },
    {
      "cell_type": "markdown",
      "metadata": {
        "id": "Rk2O4bvV2hvh",
        "colab_type": "text"
      },
      "source": [
        "To visualize the highest occurring words in a more impactful manner, we construct a word cloud which really emphasizes more frequently occurring words. "
      ]
    },
    {
      "cell_type": "code",
      "metadata": {
        "id": "cbAik6T-2hvl",
        "colab_type": "code",
        "outputId": "d4ca808b-da13-4b1e-ce6a-90a1be52f4e6",
        "colab": {
          "base_uri": "https://localhost:8080/",
          "height": 55
        }
      },
      "source": [
        "#Converting the list of tokenized words to a list containing all tokenized words in the dataset for use in the word cloud\n",
        "all_title = []\n",
        "\n",
        "for i in range(len(df['Title'])):\n",
        "    all_title.extend(df['Title'].iloc[i])\n",
        "\n",
        "print (all_title[:100])"
      ],
      "execution_count": 0,
      "outputs": [
        {
          "output_type": "stream",
          "text": [
            "['check', 'upload', 'image', 'without', 'mime', 'type', 'prevent', 'firefox', 'close', 'press', 'ctrl-w', 'r', 'error', 'invalid', 'type', 'list', 'variable', 'replace', 'special', 'character', 'url', 'modify', 'whois', 'contact', 'detail', 'set', 'proxy', 'active', 'directory', 'environment', 'draw', 'barplot', 'way', 'coreplot', 'fetch', 'xml', 'fee', 'asp.net', '.net', 'library', 'generate', 'javascript', 'sql', 'server', 'procedure', 'call', 'inline', 'concatenation', 'impossible', 'commercial', 'obfuscators', 'achieve', 'crash', '.net', 'reflector', 'ildasm', 'crappy', 'random', 'number', 'generator', 'migrate', 'mdaemon', 'postfix', 'find', 'latex3', 'manual', 'stop', 'windows', 'fade', 'windows', 'alt-tab', 'php', 'framework', 'url', 'conventions', 'create', '.rds', 'temporary', 'file', 'r', 'wpf', 'multiple', 'control', 'bind', 'property', 'play', 'framework', 'auto', 'javascript', 'css', 'minifier', 'create', 'repetitive', 'node', 'hash', 'array', 'simplexml_load_string', 'cycle', 'variables', 'cancer']\n"
          ],
          "name": "stdout"
        }
      ]
    },
    {
      "cell_type": "code",
      "metadata": {
        "id": "Ig1OkgRA2hv1",
        "colab_type": "code",
        "outputId": "8ce3d593-bf25-4885-a994-97c0b1b5edd2",
        "colab": {
          "base_uri": "https://localhost:8080/",
          "height": 35
        }
      },
      "source": [
        "#Converting the tokenized words into a single string for use in the word cloud function\n",
        "all_title = ' '.join(all_title)\n",
        "\n",
        "print (all_title[:100])"
      ],
      "execution_count": 0,
      "outputs": [
        {
          "output_type": "stream",
          "text": [
            "check upload image without mime type prevent firefox close press ctrl-w r error invalid type list va\n"
          ],
          "name": "stdout"
        }
      ]
    },
    {
      "cell_type": "markdown",
      "metadata": {
        "id": "LY9abREf2hwC",
        "colab_type": "text"
      },
      "source": [
        "Below, we implement the word cloud for the *Title* column."
      ]
    },
    {
      "cell_type": "code",
      "metadata": {
        "id": "KIWekd872hwG",
        "colab_type": "code",
        "outputId": "2950886a-ae77-48cc-91de-113ac47ec516",
        "colab": {
          "base_uri": "https://localhost:8080/",
          "height": 391
        }
      },
      "source": [
        "#Implementing the word cloud for the title\n",
        "wordcloud = WordCloud(background_color=\"white\", \n",
        "                      max_words=200, \n",
        "                      width=300, \n",
        "                      height=300, \n",
        "                      #mask=char_mask, \n",
        "                      ).generate(all_title) \n",
        "  \n",
        "# plot the WordCloud image                        \n",
        "plt.figure(figsize = (5, 5), facecolor = None) \n",
        "plt.imshow(wordcloud) \n",
        "plt.axis(\"off\") \n",
        "plt.tight_layout(pad = 0) \n",
        "  \n",
        "plt.show() "
      ],
      "execution_count": 0,
      "outputs": [
        {
          "output_type": "display_data",
          "data": {
            "image/png": "[encoded data removed]",
            "text/plain": [
              "<Figure size 360x360 with 1 Axes>"
            ]
          },
          "metadata": {
            "tags": []
          }
        }
      ]
    },
    {
      "cell_type": "markdown",
      "metadata": {
        "id": "jJV3eXB22hwY",
        "colab_type": "text"
      },
      "source": [
        "As seen from the histograms above, the word cloud also points out the more frequent words in larger font such as *php, type and create*. "
      ]
    },
    {
      "cell_type": "markdown",
      "metadata": {
        "id": "4mknnw4e2hwr",
        "colab_type": "text"
      },
      "source": [
        "The body word cloud in comparison has more nouns and verbs as the frequently occurring words. "
      ]
    },
    {
      "cell_type": "markdown",
      "metadata": {
        "id": "aRhAMKBa2hwu",
        "colab_type": "text"
      },
      "source": [
        "## c. Part of speech tagging to remove unwanted tags"
      ]
    },
    {
      "cell_type": "markdown",
      "metadata": {
        "id": "vW0q3qXm2hwy",
        "colab_type": "text"
      },
      "source": [
        "Removing verbs will be important for topic modeling as we are only interested in things like nouns, especially proper nouns. Verbs consist of actions which cannot be used as keywords. \n",
        "\n",
        "However, we will still keep a version of the dataset containing the verbs for comparison. "
      ]
    },
    {
      "cell_type": "markdown",
      "metadata": {
        "id": "kJfRkJmW2hw1",
        "colab_type": "text"
      },
      "source": [
        "#### Common POS tags:\n",
        "- Nouns: NN\n",
        "- Plural nouns: NNS\n",
        "- Proper nouns: NNP, NNPS\n",
        "- Verbs: VBP, VBN and VBD\n",
        "- Adjectives: JJ, JJR, JJS\n",
        "- Adverbs: RB, RBR (comparative), RBS (superlative)\n",
        "- Cardinal numbers: CD"
      ]
    },
    {
      "cell_type": "markdown",
      "metadata": {
        "id": "QxOHQPns2hw4",
        "colab_type": "text"
      },
      "source": [
        "First let's explore all types of POS tags that exist in the dataset for both title and body."
      ]
    },
    {
      "cell_type": "code",
      "metadata": {
        "id": "OVNQSRwx2hw8",
        "colab_type": "code",
        "outputId": "9443bea4-aef3-4a53-d7ac-1b6434f5fcbf",
        "colab": {
          "base_uri": "https://localhost:8080/",
          "height": 104
        }
      },
      "source": [
        "pos_tags_title = []\n",
        "\n",
        "for i in range(df.shape[0]):\n",
        "  try:\n",
        "    pos_tags_title.extend(nltk.pos_tag(df['Title'][i]))\n",
        "  except:\n",
        "    continue\n",
        "    \n",
        "pos_tags_title[:5]"
      ],
      "execution_count": 0,
      "outputs": [
        {
          "output_type": "execute_result",
          "data": {
            "text/plain": [
              "[('check', 'NN'),\n",
              " ('upload', 'JJ'),\n",
              " ('image', 'NN'),\n",
              " ('without', 'IN'),\n",
              " ('mime', 'NN')]"
            ]
          },
          "metadata": {
            "tags": []
          },
          "execution_count": 15
        }
      ]
    },
    {
      "cell_type": "markdown",
      "metadata": {
        "id": "gD1vgWKw2hxH",
        "colab_type": "text"
      },
      "source": [
        "Above, we have concatenated pos tags from each row of the dataset together to create a long list of tokens and tags in tuples. Next, we will separate the tokens and tags into separate lists to analyze them further. "
      ]
    },
    {
      "cell_type": "code",
      "metadata": {
        "id": "I2DguQxi2hxO",
        "colab_type": "code",
        "outputId": "386e242b-4f8b-4de7-d794-1791a62d14ba",
        "colab": {
          "base_uri": "https://localhost:8080/",
          "height": 35
        }
      },
      "source": [
        "title_tokens = list(list(zip(*pos_tags_title))[0])\n",
        "title_tags = list(list(zip(*pos_tags_title))[1])\n",
        "\n",
        "title_tags[:10]"
      ],
      "execution_count": 0,
      "outputs": [
        {
          "output_type": "execute_result",
          "data": {
            "text/plain": [
              "['NN', 'JJ', 'NN', 'IN', 'NN', 'NN', 'NN', 'NN', 'JJ', 'NN']"
            ]
          },
          "metadata": {
            "tags": []
          },
          "execution_count": 16
        }
      ]
    },
    {
      "cell_type": "markdown",
      "metadata": {
        "id": "UIhC8krF2hxg",
        "colab_type": "text"
      },
      "source": [
        "Now we can visualize the frequencies of tags easily. "
      ]
    },
    {
      "cell_type": "code",
      "metadata": {
        "id": "2xoJ-hLg2hxl",
        "colab_type": "code",
        "outputId": "efb4bcac-2bd3-468c-ba18-dcca95126d9c",
        "colab": {
          "base_uri": "https://localhost:8080/",
          "height": 721
        }
      },
      "source": [
        "#Plotting tag frequencies for title\n",
        "plt.figure(figsize=(18,5))\n",
        "sns.countplot(title_tags,palette='GnBu_d',alpha=0.7)\n",
        "plt.title(\"Frequencies of tags in Title\")\n",
        "plt.xlabel('Tags')\n",
        "\n",
        "plt.figure(figsize=(18,5))\n",
        "sns.countplot(title_tags,palette='GnBu_d',alpha=0.7)\n",
        "plt.ylim(0,200000)\n",
        "plt.title(\"Frequencies of tags in Title zoomed in\")\n",
        "plt.xlabel('Tags')"
      ],
      "execution_count": 0,
      "outputs": [
        {
          "output_type": "execute_result",
          "data": {
            "text/plain": [
              "Text(0.5, 0, 'Tags')"
            ]
          },
          "metadata": {
            "tags": []
          },
          "execution_count": 17
        },
        {
          "output_type": "display_data",
          "data": {
            "image/png": "[encoded data removed]",
            "text/plain": [
              "<Figure size 1296x360 with 1 Axes>"
            ]
          },
          "metadata": {
            "tags": []
          }
        },
        {
          "output_type": "display_data",
          "data": {
            "image/png": "[encoded data removed]",
            "text/plain": [
              "<Figure size 1296x360 with 1 Axes>"
            ]
          },
          "metadata": {
            "tags": []
          }
        }
      ]
    },
    {
      "cell_type": "code",
      "metadata": {
        "id": "Tgr3mUPB2hx5",
        "colab_type": "code",
        "outputId": "2251b42a-a1c7-4c27-af05-cd68bb2a097c",
        "colab": {
          "base_uri": "https://localhost:8080/",
          "height": 381
        }
      },
      "source": [
        "#Finding highest occurring tags\n",
        "print (pd.Series(title_tags).value_counts().head(20))"
      ],
      "execution_count": 0,
      "outputs": [
        {
          "output_type": "stream",
          "text": [
            "NN     1394514\n",
            "JJ      367719\n",
            "NNS     118973\n",
            "VBP      76103\n",
            "VB       70280\n",
            "RB       47175\n",
            "CD       44420\n",
            "IN       29867\n",
            "NNP      17146\n",
            "VBD      14201\n",
            "VBZ      12238\n",
            "VBG      10940\n",
            "VBN      10064\n",
            "#         9138\n",
            "MD        8422\n",
            "JJS       7729\n",
            "DT        6421\n",
            "JJR       2927\n",
            "RBR       2059\n",
            "FW        2003\n",
            "dtype: int64\n"
          ],
          "name": "stdout"
        }
      ]
    },
    {
      "cell_type": "markdown",
      "metadata": {
        "id": "p_YAk2xv2hyG",
        "colab_type": "text"
      },
      "source": [
        "From the distributions above, we can see that nouns are by far the most frequent (1,394,514) with adjectives coming in at second (367719). The second plot above shows a scaled version of the first graph to show the frequencies of some of the less frequent tags more clearly. Verbs (VB, VBN, VBP, VBD etc) come up to around 19,000 to 20,000 in total while adverbs (RB, RBS, RBR) account for less than 50,000 of the instances. "
      ]
    },
    {
      "cell_type": "markdown",
      "metadata": {
        "id": "1dkALmFE2hyl",
        "colab_type": "text"
      },
      "source": [
        "Next, lets take a look at some examples of verbs since we want to remove them from the dataset. "
      ]
    },
    {
      "cell_type": "markdown",
      "metadata": {
        "id": "QebLlcXk2hy2",
        "colab_type": "text"
      },
      "source": [
        "#### Exploring verbs"
      ]
    },
    {
      "cell_type": "code",
      "metadata": {
        "id": "9_-Y5CYc2hyq",
        "colab_type": "code",
        "outputId": "a728c201-40b1-40df-a4b7-644b497a9f7d",
        "colab": {
          "base_uri": "https://localhost:8080/",
          "height": 202
        }
      },
      "source": [
        "df_title_tags = pd.DataFrame()\n",
        "df_title_tags['token'] = title_tokens\n",
        "df_title_tags['tag'] = title_tags\n",
        "df_title_tags.head()"
      ],
      "execution_count": 0,
      "outputs": [
        {
          "output_type": "execute_result",
          "data": {
            "text/html": [
              "<div>\n",
              "<style scoped>\n",
              "    .dataframe tbody tr th:only-of-type {\n",
              "        vertical-align: middle;\n",
              "    }\n",
              "\n",
              "    .dataframe tbody tr th {\n",
              "        vertical-align: top;\n",
              "    }\n",
              "\n",
              "    .dataframe thead th {\n",
              "        text-align: right;\n",
              "    }\n",
              "</style>\n",
              "<table border=\"1\" class=\"dataframe\">\n",
              "  <thead>\n",
              "    <tr style=\"text-align: right;\">\n",
              "      <th></th>\n",
              "      <th>token</th>\n",
              "      <th>tag</th>\n",
              "    </tr>\n",
              "  </thead>\n",
              "  <tbody>\n",
              "    <tr>\n",
              "      <th>0</th>\n",
              "      <td>check</td>\n",
              "      <td>NN</td>\n",
              "    </tr>\n",
              "    <tr>\n",
              "      <th>1</th>\n",
              "      <td>upload</td>\n",
              "      <td>JJ</td>\n",
              "    </tr>\n",
              "    <tr>\n",
              "      <th>2</th>\n",
              "      <td>image</td>\n",
              "      <td>NN</td>\n",
              "    </tr>\n",
              "    <tr>\n",
              "      <th>3</th>\n",
              "      <td>without</td>\n",
              "      <td>IN</td>\n",
              "    </tr>\n",
              "    <tr>\n",
              "      <th>4</th>\n",
              "      <td>mime</td>\n",
              "      <td>NN</td>\n",
              "    </tr>\n",
              "  </tbody>\n",
              "</table>\n",
              "</div>"
            ],
            "text/plain": [
              "     token tag\n",
              "0    check  NN\n",
              "1   upload  JJ\n",
              "2    image  NN\n",
              "3  without  IN\n",
              "4     mime  NN"
            ]
          },
          "metadata": {
            "tags": []
          },
          "execution_count": 19
        }
      ]
    },
    {
      "cell_type": "markdown",
      "metadata": {
        "id": "SGhPi9sQ2hy4",
        "colab_type": "text"
      },
      "source": [
        "Below, we extract all the verbs in the title and explore each one."
      ]
    },
    {
      "cell_type": "code",
      "metadata": {
        "id": "LNPo1kK02hy6",
        "colab_type": "code",
        "outputId": "ffe17656-f102-4f22-d90f-80f6b4c2f540",
        "colab": {
          "base_uri": "https://localhost:8080/",
          "height": 355
        }
      },
      "source": [
        "verbs = df_title_tags[df_title_tags['tag'].str.contains(r'V')]\n",
        "verbs.head(10)"
      ],
      "execution_count": 0,
      "outputs": [
        {
          "output_type": "execute_result",
          "data": {
            "text/html": [
              "<div>\n",
              "<style scoped>\n",
              "    .dataframe tbody tr th:only-of-type {\n",
              "        vertical-align: middle;\n",
              "    }\n",
              "\n",
              "    .dataframe tbody tr th {\n",
              "        vertical-align: top;\n",
              "    }\n",
              "\n",
              "    .dataframe thead th {\n",
              "        text-align: right;\n",
              "    }\n",
              "</style>\n",
              "<table border=\"1\" class=\"dataframe\">\n",
              "  <thead>\n",
              "    <tr style=\"text-align: right;\">\n",
              "      <th></th>\n",
              "      <th>token</th>\n",
              "      <th>tag</th>\n",
              "    </tr>\n",
              "  </thead>\n",
              "  <tbody>\n",
              "    <tr>\n",
              "      <th>17</th>\n",
              "      <td>replace</td>\n",
              "      <td>VB</td>\n",
              "    </tr>\n",
              "    <tr>\n",
              "      <th>21</th>\n",
              "      <td>modify</td>\n",
              "      <td>VB</td>\n",
              "    </tr>\n",
              "    <tr>\n",
              "      <th>25</th>\n",
              "      <td>set</td>\n",
              "      <td>VBN</td>\n",
              "    </tr>\n",
              "    <tr>\n",
              "      <th>51</th>\n",
              "      <td>achieve</td>\n",
              "      <td>VBP</td>\n",
              "    </tr>\n",
              "    <tr>\n",
              "      <th>62</th>\n",
              "      <td>postfix</td>\n",
              "      <td>VBP</td>\n",
              "    </tr>\n",
              "    <tr>\n",
              "      <th>63</th>\n",
              "      <td>find</td>\n",
              "      <td>VB</td>\n",
              "    </tr>\n",
              "    <tr>\n",
              "      <th>68</th>\n",
              "      <td>fade</td>\n",
              "      <td>VBD</td>\n",
              "    </tr>\n",
              "    <tr>\n",
              "      <th>96</th>\n",
              "      <td>simplexml_load_string</td>\n",
              "      <td>VBG</td>\n",
              "    </tr>\n",
              "    <tr>\n",
              "      <th>130</th>\n",
              "      <td>make</td>\n",
              "      <td>VB</td>\n",
              "    </tr>\n",
              "    <tr>\n",
              "      <th>148</th>\n",
              "      <td>resolve</td>\n",
              "      <td>VBP</td>\n",
              "    </tr>\n",
              "  </tbody>\n",
              "</table>\n",
              "</div>"
            ],
            "text/plain": [
              "                     token  tag\n",
              "17                 replace   VB\n",
              "21                  modify   VB\n",
              "25                     set  VBN\n",
              "51                 achieve  VBP\n",
              "62                 postfix  VBP\n",
              "63                    find   VB\n",
              "68                    fade  VBD\n",
              "96   simplexml_load_string  VBG\n",
              "130                   make   VB\n",
              "148                resolve  VBP"
            ]
          },
          "metadata": {
            "tags": []
          },
          "execution_count": 20
        }
      ]
    },
    {
      "cell_type": "code",
      "metadata": {
        "id": "XkmXZmjQ2hzI",
        "colab_type": "code",
        "outputId": "d3447921-875f-4fa9-cb56-7a954af02b77",
        "colab": {
          "base_uri": "https://localhost:8080/",
          "height": 208
        }
      },
      "source": [
        "#Extracting frequency of words with VB tags\n",
        "verbs[verbs['tag']=='VB']['token'].value_counts().head(10)"
      ],
      "execution_count": 0,
      "outputs": [
        {
          "output_type": "execute_result",
          "data": {
            "text/plain": [
              "add        5113\n",
              "find       4384\n",
              "make       4181\n",
              "run        3725\n",
              "remove     3313\n",
              "get        3299\n",
              "replace    1757\n",
              "keep       1371\n",
              "save       1102\n",
              "try        1008\n",
              "Name: token, dtype: int64"
            ]
          },
          "metadata": {
            "tags": []
          },
          "execution_count": 21
        }
      ]
    },
    {
      "cell_type": "code",
      "metadata": {
        "id": "VpAC82FK2hzT",
        "colab_type": "code",
        "outputId": "77777851-3896-4fc5-a655-ce2f03d371d2",
        "colab": {
          "base_uri": "https://localhost:8080/",
          "height": 208
        }
      },
      "source": [
        "#Extracting frequency of words with VBD tags\n",
        "verbs[verbs['tag']=='VBD']['token'].value_counts().head(10)"
      ],
      "execution_count": 0,
      "outputs": [
        {
          "output_type": "execute_result",
          "data": {
            "text/plain": [
              "read           665\n",
              "embed          605\n",
              "put            563\n",
              "undefined      449\n",
              "silverlight    420\n",
              "height         346\n",
              "set            278\n",
              "sql            190\n",
              "hit            157\n",
              "highlight      133\n",
              "Name: token, dtype: int64"
            ]
          },
          "metadata": {
            "tags": []
          },
          "execution_count": 22
        }
      ]
    },
    {
      "cell_type": "code",
      "metadata": {
        "id": "OmiCHN0m2hzm",
        "colab_type": "code",
        "outputId": "8268cea9-1737-4dee-bafa-2ea20e0cff24",
        "colab": {
          "base_uri": "https://localhost:8080/",
          "height": 208
        }
      },
      "source": [
        "#Extracting frequency of words with VBN tags\n",
        "verbs[verbs['tag']=='VBN']['token'].value_counts().head(10)"
      ],
      "execution_count": 0,
      "outputs": [
        {
          "output_type": "execute_result",
          "data": {
            "text/plain": [
              "set       6738\n",
              "run        422\n",
              "embed      283\n",
              "read       175\n",
              "put        140\n",
              "come       132\n",
              "sed         81\n",
              "token       71\n",
              "offset      64\n",
              "become      61\n",
              "Name: token, dtype: int64"
            ]
          },
          "metadata": {
            "tags": []
          },
          "execution_count": 23
        }
      ]
    },
    {
      "cell_type": "code",
      "metadata": {
        "id": "7K8fA1bt2hz2",
        "colab_type": "code",
        "outputId": "2632cb62-7d68-4424-dae1-4c9aea6dd20b",
        "colab": {
          "base_uri": "https://localhost:8080/",
          "height": 208
        }
      },
      "source": [
        "#Extracting frequency of words with VBP tags\n",
        "verbs[verbs['tag']=='VBP']['token'].value_counts().head(10)"
      ],
      "execution_count": 0,
      "outputs": [
        {
          "output_type": "execute_result",
          "data": {
            "text/plain": [
              "make       2069\n",
              "find       2009\n",
              "object     1599\n",
              "exist      1428\n",
              "include    1365\n",
              "fail       1067\n",
              "save       1039\n",
              "need        914\n",
              "add         896\n",
              "leave       860\n",
              "Name: token, dtype: int64"
            ]
          },
          "metadata": {
            "tags": []
          },
          "execution_count": 24
        }
      ]
    },
    {
      "cell_type": "markdown",
      "metadata": {
        "id": "zsQdNfXN2h0t",
        "colab_type": "text"
      },
      "source": [
        "From the above analysis, we can see that most of the highest occurring verbs in the title column don't provide crucial words or keywords. These are mostly actions and don't provide information such as topics. \n",
        "\n",
        "They could be used for a different type of analysis but perhaps not for topic modeling. "
      ]
    },
    {
      "cell_type": "code",
      "metadata": {
        "id": "mLHlRJJ32h0z",
        "colab_type": "code",
        "outputId": "7e7a13c5-350f-41d8-d8aa-8deac0b374ee",
        "colab": {
          "base_uri": "https://localhost:8080/",
          "height": 535
        }
      },
      "source": [
        "#Visualizing highest occurring verbs\n",
        "plt.figure(figsize=(16,8))\n",
        "sns.barplot(x=verbs['token'].value_counts().values[:40],y=verbs['token'].value_counts().index[:40],palette='Reds_d',alpha=0.7)\n",
        "plt.xlabel('Frequency')\n",
        "plt.ylabel('Verb')"
      ],
      "execution_count": 0,
      "outputs": [
        {
          "output_type": "execute_result",
          "data": {
            "text/plain": [
              "Text(0, 0.5, 'Verb')"
            ]
          },
          "metadata": {
            "tags": []
          },
          "execution_count": 25
        },
        {
          "output_type": "display_data",
          "data": {
            "image/png": "[encoded data removed]",
            "text/plain": [
              "<Figure size 1152x576 with 1 Axes>"
            ]
          },
          "metadata": {
            "tags": []
          }
        }
      ]
    },
    {
      "cell_type": "markdown",
      "metadata": {
        "id": "CkXNBicx2h1R",
        "colab_type": "text"
      },
      "source": [
        "From the highest occurring verbs, most of the words don't add much value for topic modeling. However, there are certain words that should really be in the **noun** category such as **windows and android**. On the other hand, certain words could fall under both verb and noun depending on the meaning and context. Such words are **object and string**. The POS tagger is not going to be able to handle these intricacies. Although, I would hope that some of these words also show up as nouns so we don't have to delete them. "
      ]
    },
    {
      "cell_type": "markdown",
      "metadata": {
        "id": "OZGJZ9O72h1V",
        "colab_type": "text"
      },
      "source": [
        "#### Exploring adjectives"
      ]
    },
    {
      "cell_type": "code",
      "metadata": {
        "id": "V7f_V5hu2h1a",
        "colab_type": "code",
        "outputId": "97bfd4ac-976f-47cf-b19d-d6836592e03a",
        "colab": {
          "base_uri": "https://localhost:8080/",
          "height": 355
        }
      },
      "source": [
        "adj = df_title_tags[df_title_tags['tag'].str.contains(r'J')]\n",
        "adj.head(10)"
      ],
      "execution_count": 0,
      "outputs": [
        {
          "output_type": "execute_result",
          "data": {
            "text/html": [
              "<div>\n",
              "<style scoped>\n",
              "    .dataframe tbody tr th:only-of-type {\n",
              "        vertical-align: middle;\n",
              "    }\n",
              "\n",
              "    .dataframe tbody tr th {\n",
              "        vertical-align: top;\n",
              "    }\n",
              "\n",
              "    .dataframe thead th {\n",
              "        text-align: right;\n",
              "    }\n",
              "</style>\n",
              "<table border=\"1\" class=\"dataframe\">\n",
              "  <thead>\n",
              "    <tr style=\"text-align: right;\">\n",
              "      <th></th>\n",
              "      <th>token</th>\n",
              "      <th>tag</th>\n",
              "    </tr>\n",
              "  </thead>\n",
              "  <tbody>\n",
              "    <tr>\n",
              "      <th>1</th>\n",
              "      <td>upload</td>\n",
              "      <td>JJ</td>\n",
              "    </tr>\n",
              "    <tr>\n",
              "      <th>8</th>\n",
              "      <td>close</td>\n",
              "      <td>JJ</td>\n",
              "    </tr>\n",
              "    <tr>\n",
              "      <th>13</th>\n",
              "      <td>invalid</td>\n",
              "      <td>JJ</td>\n",
              "    </tr>\n",
              "    <tr>\n",
              "      <th>16</th>\n",
              "      <td>variable</td>\n",
              "      <td>JJ</td>\n",
              "    </tr>\n",
              "    <tr>\n",
              "      <th>18</th>\n",
              "      <td>special</td>\n",
              "      <td>JJ</td>\n",
              "    </tr>\n",
              "    <tr>\n",
              "      <th>22</th>\n",
              "      <td>whois</td>\n",
              "      <td>JJ</td>\n",
              "    </tr>\n",
              "    <tr>\n",
              "      <th>26</th>\n",
              "      <td>proxy</td>\n",
              "      <td>JJ</td>\n",
              "    </tr>\n",
              "    <tr>\n",
              "      <th>27</th>\n",
              "      <td>active</td>\n",
              "      <td>JJ</td>\n",
              "    </tr>\n",
              "    <tr>\n",
              "      <th>38</th>\n",
              "      <td>.net</td>\n",
              "      <td>JJ</td>\n",
              "    </tr>\n",
              "    <tr>\n",
              "      <th>39</th>\n",
              "      <td>library</td>\n",
              "      <td>JJ</td>\n",
              "    </tr>\n",
              "  </tbody>\n",
              "</table>\n",
              "</div>"
            ],
            "text/plain": [
              "       token tag\n",
              "1     upload  JJ\n",
              "8      close  JJ\n",
              "13   invalid  JJ\n",
              "16  variable  JJ\n",
              "18   special  JJ\n",
              "22     whois  JJ\n",
              "26     proxy  JJ\n",
              "27    active  JJ\n",
              "38      .net  JJ\n",
              "39   library  JJ"
            ]
          },
          "metadata": {
            "tags": []
          },
          "execution_count": 26
        }
      ]
    },
    {
      "cell_type": "code",
      "metadata": {
        "id": "yynXStZt2h1s",
        "colab_type": "code",
        "outputId": "a4da83dc-f71e-4a2c-eb50-49353342222e",
        "colab": {
          "base_uri": "https://localhost:8080/",
          "height": 381
        }
      },
      "source": [
        "#Extracting frequency of words with VBP tags\n",
        "adj[adj['tag']=='JJ']['token'].value_counts().head(20)"
      ],
      "execution_count": 0,
      "outputs": [
        {
          "output_type": "execute_result",
          "data": {
            "text/plain": [
              "android      5916\n",
              "multiple     5556\n",
              "different    4652\n",
              "new          4094\n",
              "possible     4053\n",
              "open         3747\n",
              "table        3625\n",
              "update       3578\n",
              "c            3499\n",
              "variable     3395\n",
              "object       3028\n",
              "specific     2788\n",
              "visual       2616\n",
              "select       2596\n",
              "url          2563\n",
              "dynamic      2136\n",
              "single       2098\n",
              "write        2090\n",
              "key          1953\n",
              "disable      1895\n",
              "Name: token, dtype: int64"
            ]
          },
          "metadata": {
            "tags": []
          },
          "execution_count": 27
        }
      ]
    },
    {
      "cell_type": "code",
      "metadata": {
        "id": "7urS5xXm2h2K",
        "colab_type": "code",
        "outputId": "3d215c13-05be-4ce8-d34d-dd330d114034",
        "colab": {
          "base_uri": "https://localhost:8080/",
          "height": 381
        }
      },
      "source": [
        "#Extracting frequency of words with VBP tags\n",
        "adj[adj['tag']=='JJS']['token'].value_counts().head(20)"
      ],
      "execution_count": 0,
      "outputs": [
        {
          "output_type": "execute_result",
          "data": {
            "text/plain": [
              "best              3278\n",
              "nest              1304\n",
              "latest             303\n",
              "fastest            288\n",
              "easiest            236\n",
              "least              199\n",
              "manifest           126\n",
              "simplest           124\n",
              "guest              121\n",
              "request            107\n",
              "highest             97\n",
              "largest             90\n",
              "closest             76\n",
              "nearest             74\n",
              "xmlhttprequest      74\n",
              "smallest            68\n",
              "longest             62\n",
              "shortest            60\n",
              "lowest              54\n",
              "httpwebrequest      51\n",
              "Name: token, dtype: int64"
            ]
          },
          "metadata": {
            "tags": []
          },
          "execution_count": 28
        }
      ]
    },
    {
      "cell_type": "code",
      "metadata": {
        "id": "_jzaHojo2h2c",
        "colab_type": "code",
        "outputId": "35401fca-8d21-4d3e-cc17-5aa42488750c",
        "colab": {
          "base_uri": "https://localhost:8080/",
          "height": 535
        }
      },
      "source": [
        "#Visualizing highest occurring adjectives\n",
        "plt.figure(figsize=(16,8))\n",
        "sns.barplot(x=adj['token'].value_counts().values[:40],y=adj['token'].value_counts().index[:40],palette='Reds_d',alpha=0.6)\n",
        "plt.xlabel('Frequency')\n",
        "plt.ylabel('Adjective')"
      ],
      "execution_count": 0,
      "outputs": [
        {
          "output_type": "execute_result",
          "data": {
            "text/plain": [
              "Text(0, 0.5, 'Adjective')"
            ]
          },
          "metadata": {
            "tags": []
          },
          "execution_count": 29
        },
        {
          "output_type": "display_data",
          "data": {
            "image/png": "[encoded data removed]",
            "text/plain": [
              "<Figure size 1152x576 with 1 Axes>"
            ]
          },
          "metadata": {
            "tags": []
          }
        }
      ]
    },
    {
      "cell_type": "markdown",
      "metadata": {
        "id": "_2PQTwHY2h2v",
        "colab_type": "text"
      },
      "source": [
        "When it comes to adjectives, the highest occurring words are accurate to a good extent but there are some keywords such as **android, library, c, url and php** that need to be preserved as they could serve as potential keywords. Overall, the adjectives seem to be more useful for topic modeling than verbs. Hence, we may end up retaining this category. "
      ]
    },
    {
      "cell_type": "markdown",
      "metadata": {
        "id": "TAkVSNmq2h27",
        "colab_type": "text"
      },
      "source": [
        "#### Exploring adverbs"
      ]
    },
    {
      "cell_type": "code",
      "metadata": {
        "id": "capKIZeP2h2_",
        "colab_type": "code",
        "outputId": "6e8b7573-3c18-4536-8e6d-49ede49fd9c3",
        "colab": {
          "base_uri": "https://localhost:8080/",
          "height": 355
        }
      },
      "source": [
        "adv = df_title_tags[df_title_tags['tag'].str.contains(r'^R+')]\n",
        "adv.head(10)"
      ],
      "execution_count": 0,
      "outputs": [
        {
          "output_type": "execute_result",
          "data": {
            "text/html": [
              "<div>\n",
              "<style scoped>\n",
              "    .dataframe tbody tr th:only-of-type {\n",
              "        vertical-align: middle;\n",
              "    }\n",
              "\n",
              "    .dataframe tbody tr th {\n",
              "        vertical-align: top;\n",
              "    }\n",
              "\n",
              "    .dataframe thead th {\n",
              "        text-align: right;\n",
              "    }\n",
              "</style>\n",
              "<table border=\"1\" class=\"dataframe\">\n",
              "  <thead>\n",
              "    <tr style=\"text-align: right;\">\n",
              "      <th></th>\n",
              "      <th>token</th>\n",
              "      <th>tag</th>\n",
              "    </tr>\n",
              "  </thead>\n",
              "  <tbody>\n",
              "    <tr>\n",
              "      <th>129</th>\n",
              "      <td>understand</td>\n",
              "      <td>RB</td>\n",
              "    </tr>\n",
              "    <tr>\n",
              "      <th>132</th>\n",
              "      <td>instead</td>\n",
              "      <td>RB</td>\n",
              "    </tr>\n",
              "    <tr>\n",
              "      <th>183</th>\n",
              "      <td>longer</td>\n",
              "      <td>RBR</td>\n",
              "    </tr>\n",
              "    <tr>\n",
              "      <th>360</th>\n",
              "      <td>menu</td>\n",
              "      <td>RB</td>\n",
              "    </tr>\n",
              "    <tr>\n",
              "      <th>362</th>\n",
              "      <td>mvc</td>\n",
              "      <td>RB</td>\n",
              "    </tr>\n",
              "    <tr>\n",
              "      <th>370</th>\n",
              "      <td>best</td>\n",
              "      <td>RBS</td>\n",
              "    </tr>\n",
              "    <tr>\n",
              "      <th>477</th>\n",
              "      <td>newly</td>\n",
              "      <td>RB</td>\n",
              "    </tr>\n",
              "    <tr>\n",
              "      <th>505</th>\n",
              "      <td>repeatedly</td>\n",
              "      <td>RB</td>\n",
              "    </tr>\n",
              "    <tr>\n",
              "      <th>530</th>\n",
              "      <td>reliably</td>\n",
              "      <td>RB</td>\n",
              "    </tr>\n",
              "    <tr>\n",
              "      <th>535</th>\n",
              "      <td>frequently</td>\n",
              "      <td>RB</td>\n",
              "    </tr>\n",
              "  </tbody>\n",
              "</table>\n",
              "</div>"
            ],
            "text/plain": [
              "          token  tag\n",
              "129  understand   RB\n",
              "132     instead   RB\n",
              "183      longer  RBR\n",
              "360        menu   RB\n",
              "362         mvc   RB\n",
              "370        best  RBS\n",
              "477       newly   RB\n",
              "505  repeatedly   RB\n",
              "530    reliably   RB\n",
              "535  frequently   RB"
            ]
          },
          "metadata": {
            "tags": []
          },
          "execution_count": 30
        }
      ]
    },
    {
      "cell_type": "code",
      "metadata": {
        "id": "HIzF8KLf2h3I",
        "colab_type": "code",
        "outputId": "fc83f144-8998-4ba5-b746-71e1d06c9232",
        "colab": {
          "base_uri": "https://localhost:8080/",
          "height": 535
        }
      },
      "source": [
        "#Visualizing highest occurring adjectives\n",
        "plt.figure(figsize=(16,8))\n",
        "sns.barplot(x=adv['token'].value_counts().values[:40],y=adv['token'].value_counts().index[:40],palette='Reds_d',alpha=0.6)\n",
        "plt.xlabel('Frequency')\n",
        "plt.ylabel('Adverb')"
      ],
      "execution_count": 0,
      "outputs": [
        {
          "output_type": "execute_result",
          "data": {
            "text/plain": [
              "Text(0, 0.5, 'Adverb')"
            ]
          },
          "metadata": {
            "tags": []
          },
          "execution_count": 31
        },
        {
          "output_type": "display_data",
          "data": {
            "image/png": "[encoded data removed]",
            "text/plain": [
              "<Figure size 1152x576 with 1 Axes>"
            ]
          },
          "metadata": {
            "tags": []
          }
        }
      ]
    },
    {
      "cell_type": "markdown",
      "metadata": {
        "id": "IWkJyHBQ2h3U",
        "colab_type": "text"
      },
      "source": [
        "Since adverbs describe an action (or verb), a lot of these words would be similar to verbs themselves. Hence, similar to verbs, adverbs don't really provide a lot of keywords for our analysis. We can possibly get rid of these. "
      ]
    },
    {
      "cell_type": "markdown",
      "metadata": {
        "id": "WtGbCQ0e2h3X",
        "colab_type": "text"
      },
      "source": [
        "#### Exploring nouns"
      ]
    },
    {
      "cell_type": "code",
      "metadata": {
        "id": "abt_h5ZJ2h3j",
        "colab_type": "code",
        "outputId": "6baebaff-6de9-46d2-afec-589d6b021f4f",
        "colab": {
          "base_uri": "https://localhost:8080/",
          "height": 355
        }
      },
      "source": [
        "noun = df_title_tags[df_title_tags['tag'].str.contains(r'^N+')]\n",
        "noun.head(10)"
      ],
      "execution_count": 0,
      "outputs": [
        {
          "output_type": "execute_result",
          "data": {
            "text/html": [
              "<div>\n",
              "<style scoped>\n",
              "    .dataframe tbody tr th:only-of-type {\n",
              "        vertical-align: middle;\n",
              "    }\n",
              "\n",
              "    .dataframe tbody tr th {\n",
              "        vertical-align: top;\n",
              "    }\n",
              "\n",
              "    .dataframe thead th {\n",
              "        text-align: right;\n",
              "    }\n",
              "</style>\n",
              "<table border=\"1\" class=\"dataframe\">\n",
              "  <thead>\n",
              "    <tr style=\"text-align: right;\">\n",
              "      <th></th>\n",
              "      <th>token</th>\n",
              "      <th>tag</th>\n",
              "    </tr>\n",
              "  </thead>\n",
              "  <tbody>\n",
              "    <tr>\n",
              "      <th>0</th>\n",
              "      <td>check</td>\n",
              "      <td>NN</td>\n",
              "    </tr>\n",
              "    <tr>\n",
              "      <th>2</th>\n",
              "      <td>image</td>\n",
              "      <td>NN</td>\n",
              "    </tr>\n",
              "    <tr>\n",
              "      <th>4</th>\n",
              "      <td>mime</td>\n",
              "      <td>NN</td>\n",
              "    </tr>\n",
              "    <tr>\n",
              "      <th>5</th>\n",
              "      <td>type</td>\n",
              "      <td>NN</td>\n",
              "    </tr>\n",
              "    <tr>\n",
              "      <th>6</th>\n",
              "      <td>prevent</td>\n",
              "      <td>NN</td>\n",
              "    </tr>\n",
              "    <tr>\n",
              "      <th>7</th>\n",
              "      <td>firefox</td>\n",
              "      <td>NN</td>\n",
              "    </tr>\n",
              "    <tr>\n",
              "      <th>9</th>\n",
              "      <td>press</td>\n",
              "      <td>NN</td>\n",
              "    </tr>\n",
              "    <tr>\n",
              "      <th>10</th>\n",
              "      <td>ctrl-w</td>\n",
              "      <td>NN</td>\n",
              "    </tr>\n",
              "    <tr>\n",
              "      <th>11</th>\n",
              "      <td>r</td>\n",
              "      <td>NN</td>\n",
              "    </tr>\n",
              "    <tr>\n",
              "      <th>12</th>\n",
              "      <td>error</td>\n",
              "      <td>NN</td>\n",
              "    </tr>\n",
              "  </tbody>\n",
              "</table>\n",
              "</div>"
            ],
            "text/plain": [
              "      token tag\n",
              "0     check  NN\n",
              "2     image  NN\n",
              "4      mime  NN\n",
              "5      type  NN\n",
              "6   prevent  NN\n",
              "7   firefox  NN\n",
              "9     press  NN\n",
              "10   ctrl-w  NN\n",
              "11        r  NN\n",
              "12    error  NN"
            ]
          },
          "metadata": {
            "tags": []
          },
          "execution_count": 32
        }
      ]
    },
    {
      "cell_type": "code",
      "metadata": {
        "id": "w1PnTepM2h4F",
        "colab_type": "code",
        "outputId": "0dc73788-8059-4544-c53b-79fb2b6e93f4",
        "colab": {
          "base_uri": "https://localhost:8080/",
          "height": 381
        }
      },
      "source": [
        "#Extracting frequency of words with NN tags\n",
        "print (noun[noun['tag']=='NN']['token'].value_counts().head(20))"
      ],
      "execution_count": 0,
      "outputs": [
        {
          "output_type": "stream",
          "text": [
            "jquery         11859\n",
            "work           11339\n",
            "value          11281\n",
            "error          11175\n",
            "function        9916\n",
            "server          9738\n",
            "php             9666\n",
            "java            8924\n",
            "image           8911\n",
            "page            8658\n",
            "class           8384\n",
            "change          8208\n",
            "javascript      7909\n",
            "create          7726\n",
            "application     7585\n",
            "code            7401\n",
            "list            7205\n",
            "way             6941\n",
            "access          6515\n",
            "array           6468\n",
            "Name: token, dtype: int64\n"
          ],
          "name": "stdout"
        }
      ]
    },
    {
      "cell_type": "code",
      "metadata": {
        "id": "C327JCsu2h4i",
        "colab_type": "code",
        "outputId": "8dc917f6-8a69-4e22-c842-d181c136c347",
        "colab": {
          "base_uri": "https://localhost:8080/",
          "height": 381
        }
      },
      "source": [
        "#Extracting frequency of words with NNS tags\n",
        "print (noun[noun['tag']=='NNS']['token'].value_counts().head(20))"
      ],
      "execution_count": 0,
      "outputs": [
        {
          "output_type": "stream",
          "text": [
            "data            11206\n",
            "windows          7847\n",
            "ios              2924\n",
            "elements         2098\n",
            "variables        1952\n",
            "problems         1662\n",
            "users            1523\n",
            "items            1506\n",
            "methods          1456\n",
            "parameters       1402\n",
            "errors           1260\n",
            "properties       1256\n",
            "events           1164\n",
            "c                1149\n",
            "applications      909\n",
            "options           838\n",
            "settings          825\n",
            "arguments         728\n",
            "permissions       693\n",
            "resources         647\n",
            "Name: token, dtype: int64\n"
          ],
          "name": "stdout"
        }
      ]
    },
    {
      "cell_type": "code",
      "metadata": {
        "id": "ZLrFjRPO2h4q",
        "colab_type": "code",
        "outputId": "528085ae-5282-4be5-945b-b039abaa0cca",
        "colab": {
          "base_uri": "https://localhost:8080/",
          "height": 381
        }
      },
      "source": [
        "#Extracting frequency of words with NNS tags\n",
        "noun[noun['tag']=='NNP']['token'].value_counts().head(20)"
      ],
      "execution_count": 0,
      "outputs": [
        {
          "output_type": "execute_result",
          "data": {
            "text/plain": [
              "xml         1681\n",
              "x           1609\n",
              ".net         977\n",
              "\\\\mathbb     508\n",
              "\\\\frac       420\n",
              "\\\\           266\n",
              "^            250\n",
              "xcode        209\n",
              "xp           149\n",
              "z            137\n",
              "|            131\n",
              "\\\\infty      125\n",
              "’            113\n",
              "\\\\sqrt       110\n",
              "-1           109\n",
              "“            106\n",
              "xaml         103\n",
              "\\\\in         102\n",
              "\\\\sin         98\n",
              "”             95\n",
              "Name: token, dtype: int64"
            ]
          },
          "metadata": {
            "tags": []
          },
          "execution_count": 35
        }
      ]
    },
    {
      "cell_type": "markdown",
      "metadata": {
        "id": "82UZU3k32h5F",
        "colab_type": "text"
      },
      "source": [
        "Note that a lot of the proper nouns are strange strings such as **x322, .pfd, \\infty**. It may be useful to get rid of this particular category. Although, from the table above, tokens such as **xml** are important so we would need to find a way to preserve those. "
      ]
    },
    {
      "cell_type": "code",
      "metadata": {
        "id": "Kq1vE69s2h5H",
        "colab_type": "code",
        "outputId": "c2acc57c-0688-46a1-e019-3c1356248f8f",
        "colab": {
          "base_uri": "https://localhost:8080/",
          "height": 35
        }
      },
      "source": [
        "#Extracting frequency of words with NNPS tags\n",
        "noun[noun['tag']=='NNPS']['token'].value_counts().head(20)"
      ],
      "execution_count": 0,
      "outputs": [
        {
          "output_type": "execute_result",
          "data": {
            "text/plain": [
              "Series([], Name: token, dtype: int64)"
            ]
          },
          "metadata": {
            "tags": []
          },
          "execution_count": 36
        }
      ]
    },
    {
      "cell_type": "code",
      "metadata": {
        "id": "fhIYChFO2h5T",
        "colab_type": "code",
        "outputId": "c5f5cb11-89ce-43cb-e2e6-f1a6e6be5eaa",
        "colab": {
          "base_uri": "https://localhost:8080/",
          "height": 535
        }
      },
      "source": [
        "#Visualizing highest occurring nouns\n",
        "plt.figure(figsize=(16,8))\n",
        "sns.barplot(x=noun['token'].value_counts().values[:40],y=noun['token'].value_counts().index[:40],palette='Reds_d',alpha=0.6)\n",
        "plt.xlabel('Frequency')\n",
        "plt.ylabel('Noun')"
      ],
      "execution_count": 0,
      "outputs": [
        {
          "output_type": "execute_result",
          "data": {
            "text/plain": [
              "Text(0, 0.5, 'Noun')"
            ]
          },
          "metadata": {
            "tags": []
          },
          "execution_count": 37
        },
        {
          "output_type": "display_data",
          "data": {
            "image/png": "[encoded data removed]",
            "text/plain": [
              "<Figure size 1152x576 with 1 Axes>"
            ]
          },
          "metadata": {
            "tags": []
          }
        }
      ]
    },
    {
      "cell_type": "markdown",
      "metadata": {
        "id": "_O1OCmQ6TaBG",
        "colab_type": "text"
      },
      "source": [
        "### Excluding all POS tags other than nouns from the dataset"
      ]
    },
    {
      "cell_type": "code",
      "metadata": {
        "id": "lEiwew0jTZSP",
        "colab_type": "code",
        "outputId": "890ef23c-cb11-4663-921a-b11151a7bbf2",
        "colab": {
          "base_uri": "https://localhost:8080/",
          "height": 355
        }
      },
      "source": [
        "#Only selecting nouns\n",
        "df_title_noun = df_title_tags[(df_title_tags['tag']=='NN') | (df_title_tags['tag']=='NNS') | (df_title_tags['tag']=='NNP') | (df_title_tags['tag']=='NNPS')]\n",
        "df_title_noun.head(10)"
      ],
      "execution_count": 0,
      "outputs": [
        {
          "output_type": "execute_result",
          "data": {
            "text/html": [
              "<div>\n",
              "<style scoped>\n",
              "    .dataframe tbody tr th:only-of-type {\n",
              "        vertical-align: middle;\n",
              "    }\n",
              "\n",
              "    .dataframe tbody tr th {\n",
              "        vertical-align: top;\n",
              "    }\n",
              "\n",
              "    .dataframe thead th {\n",
              "        text-align: right;\n",
              "    }\n",
              "</style>\n",
              "<table border=\"1\" class=\"dataframe\">\n",
              "  <thead>\n",
              "    <tr style=\"text-align: right;\">\n",
              "      <th></th>\n",
              "      <th>token</th>\n",
              "      <th>tag</th>\n",
              "    </tr>\n",
              "  </thead>\n",
              "  <tbody>\n",
              "    <tr>\n",
              "      <th>0</th>\n",
              "      <td>check</td>\n",
              "      <td>NN</td>\n",
              "    </tr>\n",
              "    <tr>\n",
              "      <th>2</th>\n",
              "      <td>image</td>\n",
              "      <td>NN</td>\n",
              "    </tr>\n",
              "    <tr>\n",
              "      <th>4</th>\n",
              "      <td>mime</td>\n",
              "      <td>NN</td>\n",
              "    </tr>\n",
              "    <tr>\n",
              "      <th>5</th>\n",
              "      <td>type</td>\n",
              "      <td>NN</td>\n",
              "    </tr>\n",
              "    <tr>\n",
              "      <th>6</th>\n",
              "      <td>prevent</td>\n",
              "      <td>NN</td>\n",
              "    </tr>\n",
              "    <tr>\n",
              "      <th>7</th>\n",
              "      <td>firefox</td>\n",
              "      <td>NN</td>\n",
              "    </tr>\n",
              "    <tr>\n",
              "      <th>9</th>\n",
              "      <td>press</td>\n",
              "      <td>NN</td>\n",
              "    </tr>\n",
              "    <tr>\n",
              "      <th>10</th>\n",
              "      <td>ctrl-w</td>\n",
              "      <td>NN</td>\n",
              "    </tr>\n",
              "    <tr>\n",
              "      <th>11</th>\n",
              "      <td>r</td>\n",
              "      <td>NN</td>\n",
              "    </tr>\n",
              "    <tr>\n",
              "      <th>12</th>\n",
              "      <td>error</td>\n",
              "      <td>NN</td>\n",
              "    </tr>\n",
              "  </tbody>\n",
              "</table>\n",
              "</div>"
            ],
            "text/plain": [
              "      token tag\n",
              "0     check  NN\n",
              "2     image  NN\n",
              "4      mime  NN\n",
              "5      type  NN\n",
              "6   prevent  NN\n",
              "7   firefox  NN\n",
              "9     press  NN\n",
              "10   ctrl-w  NN\n",
              "11        r  NN\n",
              "12    error  NN"
            ]
          },
          "metadata": {
            "tags": []
          },
          "execution_count": 38
        }
      ]
    },
    {
      "cell_type": "markdown",
      "metadata": {
        "id": "aLRFyyja2h9u",
        "colab_type": "text"
      },
      "source": [
        "## d. Getting word frequencies following POS tagging"
      ]
    },
    {
      "cell_type": "code",
      "metadata": {
        "id": "-R_kbEsH2h9w",
        "colab_type": "code",
        "outputId": "94b67956-13f4-44f6-efa8-2df7972286ca",
        "colab": {
          "base_uri": "https://localhost:8080/",
          "height": 355
        }
      },
      "source": [
        "df_title_words = pd.DataFrame()\n",
        "df_title_words['word'] = nltk.FreqDist(df_title_noun['token']).keys()\n",
        "df_title_words['freq'] = nltk.FreqDist(df_title_noun['token']).values()\n",
        "\n",
        "df_title_words = df_title_words.sort_values(\"freq\",ascending=False)\n",
        "df_title_words.head(10)"
      ],
      "execution_count": 0,
      "outputs": [
        {
          "output_type": "execute_result",
          "data": {
            "text/html": [
              "<div>\n",
              "<style scoped>\n",
              "    .dataframe tbody tr th:only-of-type {\n",
              "        vertical-align: middle;\n",
              "    }\n",
              "\n",
              "    .dataframe tbody tr th {\n",
              "        vertical-align: top;\n",
              "    }\n",
              "\n",
              "    .dataframe thead th {\n",
              "        text-align: right;\n",
              "    }\n",
              "</style>\n",
              "<table border=\"1\" class=\"dataframe\">\n",
              "  <thead>\n",
              "    <tr style=\"text-align: right;\">\n",
              "      <th></th>\n",
              "      <th>word</th>\n",
              "      <th>freq</th>\n",
              "    </tr>\n",
              "  </thead>\n",
              "  <tbody>\n",
              "    <tr>\n",
              "      <th>130</th>\n",
              "      <td>jquery</td>\n",
              "      <td>11859</td>\n",
              "    </tr>\n",
              "    <tr>\n",
              "      <th>131</th>\n",
              "      <td>data</td>\n",
              "      <td>11409</td>\n",
              "    </tr>\n",
              "    <tr>\n",
              "      <th>110</th>\n",
              "      <td>work</td>\n",
              "      <td>11339</td>\n",
              "    </tr>\n",
              "    <tr>\n",
              "      <th>255</th>\n",
              "      <td>value</td>\n",
              "      <td>11281</td>\n",
              "    </tr>\n",
              "    <tr>\n",
              "      <th>9</th>\n",
              "      <td>error</td>\n",
              "      <td>11193</td>\n",
              "    </tr>\n",
              "    <tr>\n",
              "      <th>265</th>\n",
              "      <td>function</td>\n",
              "      <td>9916</td>\n",
              "    </tr>\n",
              "    <tr>\n",
              "      <th>45</th>\n",
              "      <td>php</td>\n",
              "      <td>9837</td>\n",
              "    </tr>\n",
              "    <tr>\n",
              "      <th>28</th>\n",
              "      <td>server</td>\n",
              "      <td>9743</td>\n",
              "    </tr>\n",
              "    <tr>\n",
              "      <th>111</th>\n",
              "      <td>java</td>\n",
              "      <td>9028</td>\n",
              "    </tr>\n",
              "    <tr>\n",
              "      <th>1</th>\n",
              "      <td>image</td>\n",
              "      <td>8911</td>\n",
              "    </tr>\n",
              "  </tbody>\n",
              "</table>\n",
              "</div>"
            ],
            "text/plain": [
              "         word   freq\n",
              "130    jquery  11859\n",
              "131      data  11409\n",
              "110      work  11339\n",
              "255     value  11281\n",
              "9       error  11193\n",
              "265  function   9916\n",
              "45        php   9837\n",
              "28     server   9743\n",
              "111      java   9028\n",
              "1       image   8911"
            ]
          },
          "metadata": {
            "tags": []
          },
          "execution_count": 39
        }
      ]
    },
    {
      "cell_type": "code",
      "metadata": {
        "id": "02guqcoR2h-K",
        "colab_type": "code",
        "outputId": "768e0520-d878-4712-9bc1-bdf2324c3dc0",
        "colab": {
          "base_uri": "https://localhost:8080/",
          "height": 629
        }
      },
      "source": [
        "plt.figure(figsize=(16,8))\n",
        "sns.barplot(y='freq',x='word',data=df_title_words.head(50),alpha=0.7,palette=\"GnBu_d\")\n",
        "plt.xticks(rotation=60)"
      ],
      "execution_count": 0,
      "outputs": [
        {
          "output_type": "execute_result",
          "data": {
            "text/plain": [
              "(array([ 0,  1,  2,  3,  4,  5,  6,  7,  8,  9, 10, 11, 12, 13, 14, 15, 16,\n",
              "        17, 18, 19, 20, 21, 22, 23, 24, 25, 26, 27, 28, 29, 30, 31, 32, 33,\n",
              "        34, 35, 36, 37, 38, 39, 40, 41, 42, 43, 44, 45, 46, 47, 48, 49]),\n",
              " <a list of 50 Text xticklabel objects>)"
            ]
          },
          "metadata": {
            "tags": []
          },
          "execution_count": 40
        },
        {
          "output_type": "display_data",
          "data": {
            "image/png": "[encoded data removed]",
            "text/plain": [
              "<Figure size 1152x576 with 1 Axes>"
            ]
          },
          "metadata": {
            "tags": []
          }
        }
      ]
    },
    {
      "cell_type": "markdown",
      "metadata": {
        "id": "TE3kgQ-S2h-a",
        "colab_type": "text"
      },
      "source": [
        "From the distribution above, we can see that words such as *create, jquery, server and java* are some of the highest occurring words in the title column and they match our earlier visualization contains just nouns. "
      ]
    },
    {
      "cell_type": "markdown",
      "metadata": {
        "id": "sYa3XhzQ2h-p",
        "colab_type": "text"
      },
      "source": [
        "## e. Word frequencies using *WordCloud* following POS tagging"
      ]
    },
    {
      "cell_type": "code",
      "metadata": {
        "id": "LRGUUAuZ2h-r",
        "colab_type": "code",
        "outputId": "4cbd54e8-4add-4c25-b062-c343ec8d18b7",
        "colab": {
          "base_uri": "https://localhost:8080/",
          "height": 35
        }
      },
      "source": [
        "#Converting the tokenized words into a single string for use in the word cloud function\n",
        "all_title = ' '.join(df_title_noun['token'])\n",
        "\n",
        "print (all_title[:100])"
      ],
      "execution_count": 0,
      "outputs": [
        {
          "output_type": "stream",
          "text": [
            "check image mime type prevent firefox press ctrl-w r error type list character url contact detail di\n"
          ],
          "name": "stdout"
        }
      ]
    },
    {
      "cell_type": "markdown",
      "metadata": {
        "id": "LK9GWQW02h-z",
        "colab_type": "text"
      },
      "source": [
        "Below, we implement the word cloud for the *Title* column."
      ]
    },
    {
      "cell_type": "code",
      "metadata": {
        "id": "EPge254-2h-1",
        "colab_type": "code",
        "outputId": "7ad3946a-37b9-4519-c9a6-1785d2140176",
        "colab": {
          "base_uri": "https://localhost:8080/",
          "height": 391
        }
      },
      "source": [
        "#Implementing the word cloud for the title\n",
        "wordcloud = WordCloud(background_color=\"white\", \n",
        "                      max_words=200, \n",
        "                      width=300, \n",
        "                      height=300, \n",
        "                      #mask=char_mask, \n",
        "                      ).generate(all_title) \n",
        "  \n",
        "# plot the WordCloud image                        \n",
        "plt.figure(figsize = (5, 5), facecolor = None) \n",
        "plt.imshow(wordcloud) \n",
        "plt.axis(\"off\") \n",
        "plt.tight_layout(pad = 0) \n",
        "  \n",
        "plt.show() "
      ],
      "execution_count": 0,
      "outputs": [
        {
          "output_type": "display_data",
          "data": {
            "image/png": "[encoded data removed]",
            "text/plain": [
              "<Figure size 360x360 with 1 Axes>"
            ]
          },
          "metadata": {
            "tags": []
          }
        }
      ]
    },
    {
      "cell_type": "markdown",
      "metadata": {
        "id": "O7SmB-tu2h_L",
        "colab_type": "text"
      },
      "source": [
        "## f. Getting only *nouns* in document format"
      ]
    },
    {
      "cell_type": "markdown",
      "metadata": {
        "id": "iZjsLHnE2h_N",
        "colab_type": "text"
      },
      "source": [
        "Previously, when we explored the POS tags, we did it by extracting each and every words and putting them in a single list. To analyze the word frequencies, we simply used this list. However, in order to conduct topic modeling using techniques such as Latent Dirichlet Allocation (LDA), the dataset needs to be in a **document-term matrix** format. Therefore, we need to keep the nouns but still have the tokens in a document form. "
      ]
    },
    {
      "cell_type": "code",
      "metadata": {
        "id": "P0tGDuOW2h_R",
        "colab_type": "code",
        "outputId": "1f0d4fe3-a731-4fba-b912-79809bc528e9",
        "colab": {
          "base_uri": "https://localhost:8080/",
          "height": 208
        }
      },
      "source": [
        "df['Title'].head(10)"
      ],
      "execution_count": 0,
      "outputs": [
        {
          "output_type": "execute_result",
          "data": {
            "text/plain": [
              "0          [check, upload, image, without, mime, type]\n",
              "1             [prevent, firefox, close, press, ctrl-w]\n",
              "2            [r, error, invalid, type, list, variable]\n",
              "3                   [replace, special, character, url]\n",
              "4                     [modify, whois, contact, detail]\n",
              "5         [set, proxy, active, directory, environment]\n",
              "6                       [draw, barplot, way, coreplot]\n",
              "7                           [fetch, xml, fee, asp.net]\n",
              "8                [.net, library, generate, javascript]\n",
              "9    [sql, server, procedure, call, inline, concate...\n",
              "Name: Title, dtype: object"
            ]
          },
          "metadata": {
            "tags": []
          },
          "execution_count": 43
        }
      ]
    },
    {
      "cell_type": "code",
      "metadata": {
        "id": "wbm7PWeT2h_Y",
        "colab_type": "code",
        "colab": {}
      },
      "source": [
        "#Function to read in lists of tokens and return the list with only nouns \n",
        "def keep_nouns_in_doc(doc_list):\n",
        "    try:\n",
        "      tags = nltk.pos_tag(doc_list)\n",
        "      tags = list(zip(*tags))\n",
        "      doc_list_nouns = []\n",
        "      for i in range(len(tags[0])):\n",
        "        try:\n",
        "          if tags[1][i].startswith('NN'):\n",
        "            doc_list_nouns.append(tags[0][i])\n",
        "        except:\n",
        "          continue\n",
        "      return doc_list_nouns\n",
        "    except:\n",
        "      return ['']"
      ],
      "execution_count": 0,
      "outputs": []
    },
    {
      "cell_type": "code",
      "metadata": {
        "id": "OHys-w4b2h_e",
        "colab_type": "code",
        "outputId": "99ff763b-385d-45d9-a16e-227fa8e752e1",
        "colab": {
          "base_uri": "https://localhost:8080/",
          "height": 415
        }
      },
      "source": [
        "#Applying the above function to the dataset\n",
        "df_text_nouns = pd.DataFrame()\n",
        "df_text_nouns['Title'] = df['Title'].apply(keep_nouns_in_doc)\n",
        "df_text_nouns"
      ],
      "execution_count": 0,
      "outputs": [
        {
          "output_type": "execute_result",
          "data": {
            "text/html": [
              "<div>\n",
              "<style scoped>\n",
              "    .dataframe tbody tr th:only-of-type {\n",
              "        vertical-align: middle;\n",
              "    }\n",
              "\n",
              "    .dataframe tbody tr th {\n",
              "        vertical-align: top;\n",
              "    }\n",
              "\n",
              "    .dataframe thead th {\n",
              "        text-align: right;\n",
              "    }\n",
              "</style>\n",
              "<table border=\"1\" class=\"dataframe\">\n",
              "  <thead>\n",
              "    <tr style=\"text-align: right;\">\n",
              "      <th></th>\n",
              "      <th>Title</th>\n",
              "    </tr>\n",
              "  </thead>\n",
              "  <tbody>\n",
              "    <tr>\n",
              "      <th>0</th>\n",
              "      <td>[check, image, mime, type]</td>\n",
              "    </tr>\n",
              "    <tr>\n",
              "      <th>1</th>\n",
              "      <td>[prevent, firefox, press, ctrl-w]</td>\n",
              "    </tr>\n",
              "    <tr>\n",
              "      <th>2</th>\n",
              "      <td>[r, error, type, list]</td>\n",
              "    </tr>\n",
              "    <tr>\n",
              "      <th>3</th>\n",
              "      <td>[character, url]</td>\n",
              "    </tr>\n",
              "    <tr>\n",
              "      <th>4</th>\n",
              "      <td>[contact, detail]</td>\n",
              "    </tr>\n",
              "    <tr>\n",
              "      <th>...</th>\n",
              "      <td>...</td>\n",
              "    </tr>\n",
              "    <tr>\n",
              "      <th>420662</th>\n",
              "      <td>[windows, program, memory]</td>\n",
              "    </tr>\n",
              "    <tr>\n",
              "      <th>420663</th>\n",
              "      <td>[jquery, script, javascript, script, wordpress]</td>\n",
              "    </tr>\n",
              "    <tr>\n",
              "      <th>420664</th>\n",
              "      <td>[ip, address, network, address, network, prefi...</td>\n",
              "    </tr>\n",
              "    <tr>\n",
              "      <th>420665</th>\n",
              "      <td>[jquery, project, studio, practice]</td>\n",
              "    </tr>\n",
              "    <tr>\n",
              "      <th>420666</th>\n",
              "      <td>[border]</td>\n",
              "    </tr>\n",
              "  </tbody>\n",
              "</table>\n",
              "<p>420545 rows × 1 columns</p>\n",
              "</div>"
            ],
            "text/plain": [
              "                                                    Title\n",
              "0                              [check, image, mime, type]\n",
              "1                       [prevent, firefox, press, ctrl-w]\n",
              "2                                  [r, error, type, list]\n",
              "3                                        [character, url]\n",
              "4                                       [contact, detail]\n",
              "...                                                   ...\n",
              "420662                         [windows, program, memory]\n",
              "420663    [jquery, script, javascript, script, wordpress]\n",
              "420664  [ip, address, network, address, network, prefi...\n",
              "420665                [jquery, project, studio, practice]\n",
              "420666                                           [border]\n",
              "\n",
              "[420545 rows x 1 columns]"
            ]
          },
          "metadata": {
            "tags": []
          },
          "execution_count": 90
        }
      ]
    },
    {
      "cell_type": "markdown",
      "metadata": {
        "id": "-deIK6Bf2h_n",
        "colab_type": "text"
      },
      "source": [
        "To verify that our transformation worked, we can look at the word frequencies once again briefly."
      ]
    },
    {
      "cell_type": "code",
      "metadata": {
        "id": "Gh8o3vPc2h_q",
        "colab_type": "code",
        "outputId": "79713d30-6881-4718-b525-9be17cf0b75c",
        "colab": {
          "base_uri": "https://localhost:8080/",
          "height": 355
        }
      },
      "source": [
        "title_words = combine_list_of_words(df_text_nouns['Title'])\n",
        "\n",
        "df_title_words = pd.DataFrame()\n",
        "df_title_words['word'] = nltk.FreqDist(title_words).keys()\n",
        "df_title_words['freq'] = nltk.FreqDist(title_words).values()\n",
        "\n",
        "df_title_words = df_title_words.sort_values(\"freq\",ascending=False)\n",
        "df_title_words.head(10)"
      ],
      "execution_count": 0,
      "outputs": [
        {
          "output_type": "execute_result",
          "data": {
            "text/html": [
              "<div>\n",
              "<style scoped>\n",
              "    .dataframe tbody tr th:only-of-type {\n",
              "        vertical-align: middle;\n",
              "    }\n",
              "\n",
              "    .dataframe tbody tr th {\n",
              "        vertical-align: top;\n",
              "    }\n",
              "\n",
              "    .dataframe thead th {\n",
              "        text-align: right;\n",
              "    }\n",
              "</style>\n",
              "<table border=\"1\" class=\"dataframe\">\n",
              "  <thead>\n",
              "    <tr style=\"text-align: right;\">\n",
              "      <th></th>\n",
              "      <th>word</th>\n",
              "      <th>freq</th>\n",
              "    </tr>\n",
              "  </thead>\n",
              "  <tbody>\n",
              "    <tr>\n",
              "      <th>130</th>\n",
              "      <td>jquery</td>\n",
              "      <td>11865</td>\n",
              "    </tr>\n",
              "    <tr>\n",
              "      <th>131</th>\n",
              "      <td>data</td>\n",
              "      <td>11412</td>\n",
              "    </tr>\n",
              "    <tr>\n",
              "      <th>110</th>\n",
              "      <td>work</td>\n",
              "      <td>11344</td>\n",
              "    </tr>\n",
              "    <tr>\n",
              "      <th>255</th>\n",
              "      <td>value</td>\n",
              "      <td>11284</td>\n",
              "    </tr>\n",
              "    <tr>\n",
              "      <th>9</th>\n",
              "      <td>error</td>\n",
              "      <td>11197</td>\n",
              "    </tr>\n",
              "    <tr>\n",
              "      <th>265</th>\n",
              "      <td>function</td>\n",
              "      <td>9921</td>\n",
              "    </tr>\n",
              "    <tr>\n",
              "      <th>45</th>\n",
              "      <td>php</td>\n",
              "      <td>9837</td>\n",
              "    </tr>\n",
              "    <tr>\n",
              "      <th>28</th>\n",
              "      <td>server</td>\n",
              "      <td>9747</td>\n",
              "    </tr>\n",
              "    <tr>\n",
              "      <th>111</th>\n",
              "      <td>java</td>\n",
              "      <td>9031</td>\n",
              "    </tr>\n",
              "    <tr>\n",
              "      <th>1</th>\n",
              "      <td>image</td>\n",
              "      <td>8913</td>\n",
              "    </tr>\n",
              "  </tbody>\n",
              "</table>\n",
              "</div>"
            ],
            "text/plain": [
              "         word   freq\n",
              "130    jquery  11865\n",
              "131      data  11412\n",
              "110      work  11344\n",
              "255     value  11284\n",
              "9       error  11197\n",
              "265  function   9921\n",
              "45        php   9837\n",
              "28     server   9747\n",
              "111      java   9031\n",
              "1       image   8913"
            ]
          },
          "metadata": {
            "tags": []
          },
          "execution_count": 91
        }
      ]
    },
    {
      "cell_type": "markdown",
      "metadata": {
        "id": "lrlwtZJi2h_6",
        "colab_type": "text"
      },
      "source": [
        "Looking at the table above for the highest occurring words in the **Title** column, the top entries match the list we observed earlier. So I think we should be good to proceed. "
      ]
    },
    {
      "cell_type": "code",
      "metadata": {
        "id": "gf96VL1o2iAD",
        "colab_type": "code",
        "outputId": "a30ac660-2e27-4217-b938-43e1d19bba04",
        "colab": {
          "base_uri": "https://localhost:8080/",
          "height": 202
        }
      },
      "source": [
        "df_text_nouns.head()"
      ],
      "execution_count": 0,
      "outputs": [
        {
          "output_type": "execute_result",
          "data": {
            "text/html": [
              "<div>\n",
              "<style scoped>\n",
              "    .dataframe tbody tr th:only-of-type {\n",
              "        vertical-align: middle;\n",
              "    }\n",
              "\n",
              "    .dataframe tbody tr th {\n",
              "        vertical-align: top;\n",
              "    }\n",
              "\n",
              "    .dataframe thead th {\n",
              "        text-align: right;\n",
              "    }\n",
              "</style>\n",
              "<table border=\"1\" class=\"dataframe\">\n",
              "  <thead>\n",
              "    <tr style=\"text-align: right;\">\n",
              "      <th></th>\n",
              "      <th>Title</th>\n",
              "    </tr>\n",
              "  </thead>\n",
              "  <tbody>\n",
              "    <tr>\n",
              "      <th>0</th>\n",
              "      <td>[check, image, mime, type]</td>\n",
              "    </tr>\n",
              "    <tr>\n",
              "      <th>1</th>\n",
              "      <td>[prevent, firefox, press, ctrl-w]</td>\n",
              "    </tr>\n",
              "    <tr>\n",
              "      <th>2</th>\n",
              "      <td>[r, error, type, list]</td>\n",
              "    </tr>\n",
              "    <tr>\n",
              "      <th>3</th>\n",
              "      <td>[character, url]</td>\n",
              "    </tr>\n",
              "    <tr>\n",
              "      <th>4</th>\n",
              "      <td>[contact, detail]</td>\n",
              "    </tr>\n",
              "  </tbody>\n",
              "</table>\n",
              "</div>"
            ],
            "text/plain": [
              "                               Title\n",
              "0         [check, image, mime, type]\n",
              "1  [prevent, firefox, press, ctrl-w]\n",
              "2             [r, error, type, list]\n",
              "3                   [character, url]\n",
              "4                  [contact, detail]"
            ]
          },
          "metadata": {
            "tags": []
          },
          "execution_count": 92
        }
      ]
    },
    {
      "cell_type": "code",
      "metadata": {
        "id": "KwKeD55J2iAJ",
        "colab_type": "code",
        "colab": {}
      },
      "source": [
        "def join_words(list_of_words):\n",
        "    return ' '.join(list_of_words)"
      ],
      "execution_count": 0,
      "outputs": []
    },
    {
      "cell_type": "code",
      "metadata": {
        "id": "HOUgr1Tz2iAP",
        "colab_type": "code",
        "outputId": "c40240c0-a12d-4f42-c255-e8d3e25b5c7a",
        "colab": {
          "base_uri": "https://localhost:8080/",
          "height": 202
        }
      },
      "source": [
        "df_text_nouns['Title'] = df_text_nouns['Title'].apply(join_words)\n",
        "\n",
        "df_text_nouns.head()"
      ],
      "execution_count": 0,
      "outputs": [
        {
          "output_type": "execute_result",
          "data": {
            "text/html": [
              "<div>\n",
              "<style scoped>\n",
              "    .dataframe tbody tr th:only-of-type {\n",
              "        vertical-align: middle;\n",
              "    }\n",
              "\n",
              "    .dataframe tbody tr th {\n",
              "        vertical-align: top;\n",
              "    }\n",
              "\n",
              "    .dataframe thead th {\n",
              "        text-align: right;\n",
              "    }\n",
              "</style>\n",
              "<table border=\"1\" class=\"dataframe\">\n",
              "  <thead>\n",
              "    <tr style=\"text-align: right;\">\n",
              "      <th></th>\n",
              "      <th>Title</th>\n",
              "    </tr>\n",
              "  </thead>\n",
              "  <tbody>\n",
              "    <tr>\n",
              "      <th>0</th>\n",
              "      <td>check image mime type</td>\n",
              "    </tr>\n",
              "    <tr>\n",
              "      <th>1</th>\n",
              "      <td>prevent firefox press ctrl-w</td>\n",
              "    </tr>\n",
              "    <tr>\n",
              "      <th>2</th>\n",
              "      <td>r error type list</td>\n",
              "    </tr>\n",
              "    <tr>\n",
              "      <th>3</th>\n",
              "      <td>character url</td>\n",
              "    </tr>\n",
              "    <tr>\n",
              "      <th>4</th>\n",
              "      <td>contact detail</td>\n",
              "    </tr>\n",
              "  </tbody>\n",
              "</table>\n",
              "</div>"
            ],
            "text/plain": [
              "                          Title\n",
              "0         check image mime type\n",
              "1  prevent firefox press ctrl-w\n",
              "2             r error type list\n",
              "3                 character url\n",
              "4                contact detail"
            ]
          },
          "metadata": {
            "tags": []
          },
          "execution_count": 94
        }
      ]
    },
    {
      "cell_type": "code",
      "metadata": {
        "id": "bfiGYW37ZGhw",
        "colab_type": "code",
        "outputId": "fe35c90c-9a23-4fa8-d2b5-74f5d87f2b95",
        "colab": {
          "base_uri": "https://localhost:8080/",
          "height": 35
        }
      },
      "source": [
        "df_text_nouns.shape"
      ],
      "execution_count": 0,
      "outputs": [
        {
          "output_type": "execute_result",
          "data": {
            "text/plain": [
              "(420545, 1)"
            ]
          },
          "metadata": {
            "tags": []
          },
          "execution_count": 97
        }
      ]
    },
    {
      "cell_type": "code",
      "metadata": {
        "id": "SUqCsmfZ2iAa",
        "colab_type": "code",
        "colab": {}
      },
      "source": [
        "df_text_nouns.to_csv('/content/drive/My Drive/cleaned_preprocessed_dataset_with_only_nouns_and_title.csv')"
      ],
      "execution_count": 0,
      "outputs": []
    },
    {
      "cell_type": "code",
      "metadata": {
        "id": "9grPj2Rx2iAe",
        "colab_type": "code",
        "colab": {}
      },
      "source": [
        ""
      ],
      "execution_count": 0,
      "outputs": []
    }
  ]
}